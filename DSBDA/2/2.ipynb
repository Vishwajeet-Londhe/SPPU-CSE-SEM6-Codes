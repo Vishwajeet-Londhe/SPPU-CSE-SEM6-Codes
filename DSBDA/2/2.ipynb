{
  "cells": [
    {
      "cell_type": "code",
      "execution_count": 67,
      "metadata": {},
      "outputs": [],
      "source": [
        "# Importing libraries \n",
        "import pandas as pd\n",
        "import numpy as np\n",
        "import matplotlib.pyplot as plt"
      ]
    },
    {
      "cell_type": "code",
      "execution_count": null,
      "metadata": {},
      "outputs": [],
      "source": [
        "# Read the csv file into a pandas dataframe\n",
        "df = pd.read_csv(\"acdemic_data.csv\")"
      ]
    },
    {
      "cell_type": "code",
      "execution_count": 45,
      "metadata": {},
      "outputs": [
        {
          "name": "stdout",
          "output_type": "stream",
          "text": [
            "  Firstname Lastname Gender  SPOS DSBDA     WT  DA\n",
            "0        LA      Roy      M  85.0    88   90.0  92\n",
            "1        SA    Dixit      F  90.0    90   94.0  95\n",
            "2        AB   Danial      M   NaN    na  100.0  80\n",
            "3        DA   Kapoor      M  95.0    86  500.0  82\n",
            "4        SA      Jha      F   NaN    84   98.0  84\n"
          ]
        }
      ],
      "source": [
        "# Prints out the first few rows \n",
        "print(df.head())"
      ]
    },
    {
      "cell_type": "code",
      "execution_count": 46,
      "metadata": {},
      "outputs": [],
      "source": [
        "missing_value_formats = [\"n.a.\",\"?\",\"NA\",\"n/a\", \"na\", \"--\"]\n",
        "df = pd.read_csv(\"acdemic_data.csv\", na_values = missing_value_formats)"
      ]
    },
    {
      "cell_type": "code",
      "execution_count": 47,
      "metadata": {},
      "outputs": [
        {
          "name": "stdout",
          "output_type": "stream",
          "text": [
            "0    M\n",
            "1    F\n",
            "2    M\n",
            "3    M\n",
            "4    F\n",
            "5    F\n",
            "6    M\n",
            "7    F\n",
            "8    M\n",
            "9    M\n",
            "Name: Gender, dtype: object\n"
          ]
        }
      ],
      "source": [
        "#print gender again \n",
        "print(df['Gender'].head(10))"
      ]
    },
    {
      "cell_type": "code",
      "execution_count": 48,
      "metadata": {},
      "outputs": [
        {
          "name": "stdout",
          "output_type": "stream",
          "text": [
            "0    False\n",
            "1    False\n",
            "2    False\n",
            "3    False\n",
            "4    False\n",
            "5    False\n",
            "6    False\n",
            "7    False\n",
            "8    False\n",
            "9    False\n",
            "Name: Gender, dtype: bool\n"
          ]
        }
      ],
      "source": [
        "# Null values are marked True\n",
        "print(df['Gender'].isnull().head(10))"
      ]
    },
    {
      "cell_type": "code",
      "execution_count": 49,
      "metadata": {},
      "outputs": [
        {
          "name": "stdout",
          "output_type": "stream",
          "text": [
            "0    True\n",
            "1    True\n",
            "2    True\n",
            "3    True\n",
            "4    True\n",
            "5    True\n",
            "6    True\n",
            "7    True\n",
            "8    True\n",
            "9    True\n",
            "Name: Gender, dtype: bool\n"
          ]
        }
      ],
      "source": [
        "# NaN values are marked False  \n",
        "print(df['Gender'].notnull().head(10))"
      ]
    },
    {
      "cell_type": "code",
      "execution_count": 50,
      "metadata": {},
      "outputs": [],
      "source": [
        "# notnull will return False for all NaN values\n",
        "null_filter = df['Gender'].notnull()"
      ]
    },
    {
      "cell_type": "code",
      "execution_count": 51,
      "metadata": {},
      "outputs": [
        {
          "name": "stdout",
          "output_type": "stream",
          "text": [
            "   Firstname Lastname Gender   SPOS  DSBDA     WT   DA\n",
            "0         LA      Roy      M   85.0   88.0   90.0   92\n",
            "1         SA    Dixit      F   90.0   90.0   94.0   95\n",
            "2         AB   Danial      M    NaN    NaN  100.0   80\n",
            "3         DA   Kapoor      M   95.0   86.0  500.0   82\n",
            "4         SA      Jha      F    NaN   84.0   98.0   84\n",
            "5         WS   Thakur      F   87.0    NaN   97.0   86\n",
            "6         DY   Kapoor      M   81.0   80.0   96.0   89\n",
            "7         JK   Khanna      F   40.0   88.0   95.0   87\n",
            "8         RT  Pardesi      M   10.0   96.0   94.0   88\n",
            "9         UV  Pardesi      M    9.0    NaN   93.0   96\n",
            "10        MN    Desai      F  200.0   87.0    NaN  N.A\n",
            "11        BC    Patel      F  300.0    NaN   88.0  300\n"
          ]
        }
      ],
      "source": [
        "# prints only those rows where null_filter is True \n",
        "print(df[null_filter]) "
      ]
    },
    {
      "cell_type": "code",
      "execution_count": 52,
      "metadata": {},
      "outputs": [
        {
          "name": "stdout",
          "output_type": "stream",
          "text": [
            "True\n"
          ]
        }
      ],
      "source": [
        "print(df.isnull().values.any())"
      ]
    },
    {
      "cell_type": "code",
      "execution_count": 53,
      "metadata": {},
      "outputs": [],
      "source": [
        "# How to remove rows with missing values\n",
        "\n",
        "# drop all rows with Null values \n",
        "df.dropna(axis=0,inplace=True)"
      ]
    },
    {
      "cell_type": "code",
      "execution_count": 54,
      "metadata": {},
      "outputs": [],
      "source": [
        "# drop all rows with atleast one null\n",
        "new_df = df.dropna(axis = 0, how ='any')"
      ]
    },
    {
      "cell_type": "code",
      "execution_count": 55,
      "metadata": {},
      "outputs": [],
      "source": [
        "# drop all rows with all null\n",
        "new_df = df.dropna(axis = 0, how ='all')"
      ]
    },
    {
      "cell_type": "code",
      "execution_count": 56,
      "metadata": {},
      "outputs": [],
      "source": [
        "# drop all columns with atleast one Null\n",
        "new_df = df.dropna(axis = 1, how ='any')\n"
      ]
    },
    {
      "cell_type": "code",
      "execution_count": 57,
      "metadata": {},
      "outputs": [],
      "source": [
        "# drop all columns with all Null \n",
        "new_df = df.dropna(axis = 1, how ='all')"
      ]
    },
    {
      "cell_type": "code",
      "execution_count": 60,
      "metadata": {},
      "outputs": [
        {
          "name": "stderr",
          "output_type": "stream",
          "text": [
            "C:\\Users\\vishw\\AppData\\Local\\Temp\\ipykernel_15956\\2861788664.py:2: FutureWarning: A value is trying to be set on a copy of a DataFrame or Series through chained assignment using an inplace method.\n",
            "The behavior will change in pandas 3.0. This inplace method will never work because the intermediate object on which we are setting values always behaves as a copy.\n",
            "\n",
            "For example, when doing 'df[col].method(value, inplace=True)', try using 'df.method({col: value}, inplace=True)' or df[col] = df[col].method(value) instead, to perform the operation inplace on the original object.\n",
            "\n",
            "\n",
            "  df['SPOS'].fillna(0, inplace=True)\n"
          ]
        }
      ],
      "source": [
        "#Replacing Null with a single constant value \n",
        "df['SPOS'].fillna(0, inplace=True)\n"
      ]
    },
    {
      "cell_type": "code",
      "execution_count": 61,
      "metadata": {},
      "outputs": [
        {
          "name": "stdout",
          "output_type": "stream",
          "text": [
            "0    85.0\n",
            "1    90.0\n",
            "3    95.0\n",
            "6    81.0\n",
            "7    40.0\n",
            "8    10.0\n",
            "Name: SPOS, dtype: float64\n"
          ]
        }
      ],
      "source": [
        "# To check changes call \n",
        "print(df['SPOS'].head(10))\n"
      ]
    },
    {
      "cell_type": "code",
      "execution_count": 64,
      "metadata": {},
      "outputs": [
        {
          "name": "stdout",
          "output_type": "stream",
          "text": [
            "0    85.0\n",
            "1    90.0\n",
            "3    95.0\n",
            "6    81.0\n",
            "7    40.0\n",
            "8    10.0\n",
            "Name: SPOS, dtype: float64\n"
          ]
        },
        {
          "name": "stderr",
          "output_type": "stream",
          "text": [
            "C:\\Users\\vishw\\AppData\\Local\\Temp\\ipykernel_15956\\3844093227.py:4: FutureWarning: A value is trying to be set on a copy of a DataFrame or Series through chained assignment using an inplace method.\n",
            "The behavior will change in pandas 3.0. This inplace method will never work because the intermediate object on which we are setting values always behaves as a copy.\n",
            "\n",
            "For example, when doing 'df[col].method(value, inplace=True)', try using 'df.method({col: value}, inplace=True)' or df[col] = df[col].method(value) instead, to perform the operation inplace on the original object.\n",
            "\n",
            "\n",
            "  df['DSBDA'].fillna(method='pad', inplace=True)\n",
            "C:\\Users\\vishw\\AppData\\Local\\Temp\\ipykernel_15956\\3844093227.py:4: FutureWarning: Series.fillna with 'method' is deprecated and will raise in a future version. Use obj.ffill() or obj.bfill() instead.\n",
            "  df['DSBDA'].fillna(method='pad', inplace=True)\n"
          ]
        }
      ],
      "source": [
        "#Replacing Null with the value from the previous row or the next row \n",
        "#method = 'pad’ for taking values from the previous row \n",
        "\n",
        "df['DSBDA'].fillna(method='pad', inplace=True)\n",
        "print(df['SPOS'].head(10))\n",
        "\n"
      ]
    },
    {
      "cell_type": "code",
      "execution_count": 65,
      "metadata": {},
      "outputs": [
        {
          "name": "stdout",
          "output_type": "stream",
          "text": [
            "0    85.0\n",
            "1    90.0\n",
            "3    95.0\n",
            "6    81.0\n",
            "7    40.0\n",
            "8    10.0\n",
            "Name: SPOS, dtype: float64\n"
          ]
        },
        {
          "name": "stderr",
          "output_type": "stream",
          "text": [
            "C:\\Users\\vishw\\AppData\\Local\\Temp\\ipykernel_15956\\423045435.py:2: FutureWarning: A value is trying to be set on a copy of a DataFrame or Series through chained assignment using an inplace method.\n",
            "The behavior will change in pandas 3.0. This inplace method will never work because the intermediate object on which we are setting values always behaves as a copy.\n",
            "\n",
            "For example, when doing 'df[col].method(value, inplace=True)', try using 'df.method({col: value}, inplace=True)' or df[col] = df[col].method(value) instead, to perform the operation inplace on the original object.\n",
            "\n",
            "\n",
            "  df['SPOS'].fillna(method='bfill', inplace=True)\n",
            "C:\\Users\\vishw\\AppData\\Local\\Temp\\ipykernel_15956\\423045435.py:2: FutureWarning: Series.fillna with 'method' is deprecated and will raise in a future version. Use obj.ffill() or obj.bfill() instead.\n",
            "  df['SPOS'].fillna(method='bfill', inplace=True)\n"
          ]
        }
      ],
      "source": [
        "# We use method = 'bfill’ for taking values from the next row. \n",
        "df['SPOS'].fillna(method='bfill', inplace=True) \n",
        "print(df['SPOS'].head(10))\n"
      ]
    },
    {
      "cell_type": "code",
      "execution_count": 68,
      "metadata": {},
      "outputs": [
        {
          "data": {
            "text/html": [
              "<div>\n",
              "<style scoped>\n",
              "    .dataframe tbody tr th:only-of-type {\n",
              "        vertical-align: middle;\n",
              "    }\n",
              "\n",
              "    .dataframe tbody tr th {\n",
              "        vertical-align: top;\n",
              "    }\n",
              "\n",
              "    .dataframe thead th {\n",
              "        text-align: right;\n",
              "    }\n",
              "</style>\n",
              "<table border=\"1\" class=\"dataframe\">\n",
              "  <thead>\n",
              "    <tr style=\"text-align: right;\">\n",
              "      <th></th>\n",
              "      <th>Firstname</th>\n",
              "      <th>Lastname</th>\n",
              "      <th>Gender</th>\n",
              "      <th>SPOS</th>\n",
              "      <th>DSBDA</th>\n",
              "      <th>WT</th>\n",
              "      <th>DA</th>\n",
              "    </tr>\n",
              "  </thead>\n",
              "  <tbody>\n",
              "    <tr>\n",
              "      <th>0</th>\n",
              "      <td>LA</td>\n",
              "      <td>Roy</td>\n",
              "      <td>M</td>\n",
              "      <td>85.0</td>\n",
              "      <td>88.0</td>\n",
              "      <td>90.0</td>\n",
              "      <td>92</td>\n",
              "    </tr>\n",
              "    <tr>\n",
              "      <th>1</th>\n",
              "      <td>SA</td>\n",
              "      <td>Dixit</td>\n",
              "      <td>F</td>\n",
              "      <td>90.0</td>\n",
              "      <td>90.0</td>\n",
              "      <td>94.0</td>\n",
              "      <td>95</td>\n",
              "    </tr>\n",
              "    <tr>\n",
              "      <th>3</th>\n",
              "      <td>DA</td>\n",
              "      <td>Kapoor</td>\n",
              "      <td>M</td>\n",
              "      <td>95.0</td>\n",
              "      <td>86.0</td>\n",
              "      <td>500.0</td>\n",
              "      <td>82</td>\n",
              "    </tr>\n",
              "    <tr>\n",
              "      <th>6</th>\n",
              "      <td>DY</td>\n",
              "      <td>Kapoor</td>\n",
              "      <td>M</td>\n",
              "      <td>81.0</td>\n",
              "      <td>80.0</td>\n",
              "      <td>96.0</td>\n",
              "      <td>89</td>\n",
              "    </tr>\n",
              "    <tr>\n",
              "      <th>7</th>\n",
              "      <td>JK</td>\n",
              "      <td>Khanna</td>\n",
              "      <td>F</td>\n",
              "      <td>40.0</td>\n",
              "      <td>88.0</td>\n",
              "      <td>95.0</td>\n",
              "      <td>87</td>\n",
              "    </tr>\n",
              "  </tbody>\n",
              "</table>\n",
              "</div>"
            ],
            "text/plain": [
              "  Firstname Lastname Gender  SPOS  DSBDA     WT  DA\n",
              "0        LA      Roy      M  85.0   88.0   90.0  92\n",
              "1        SA    Dixit      F  90.0   90.0   94.0  95\n",
              "3        DA   Kapoor      M  95.0   86.0  500.0  82\n",
              "6        DY   Kapoor      M  81.0   80.0   96.0  89\n",
              "7        JK   Khanna      F  40.0   88.0   95.0  87"
            ]
          },
          "execution_count": 68,
          "metadata": {},
          "output_type": "execute_result"
        }
      ],
      "source": [
        "df.head()"
      ]
    },
    {
      "cell_type": "code",
      "execution_count": 69,
      "metadata": {},
      "outputs": [
        {
          "data": {
            "text/plain": [
              "(6, 7)"
            ]
          },
          "execution_count": 69,
          "metadata": {},
          "output_type": "execute_result"
        }
      ],
      "source": [
        "df.shape"
      ]
    },
    {
      "cell_type": "code",
      "execution_count": 70,
      "metadata": {},
      "outputs": [
        {
          "data": {
            "text/plain": [
              "{'whiskers': [<matplotlib.lines.Line2D at 0x13336ce6350>,\n",
              "  <matplotlib.lines.Line2D at 0x13336ce6490>],\n",
              " 'caps': [<matplotlib.lines.Line2D at 0x13336ce65d0>,\n",
              "  <matplotlib.lines.Line2D at 0x13336ce6710>],\n",
              " 'boxes': [<matplotlib.lines.Line2D at 0x13336c1a210>],\n",
              " 'medians': [<matplotlib.lines.Line2D at 0x13336ce6850>],\n",
              " 'fliers': [<matplotlib.lines.Line2D at 0x13336ce6990>],\n",
              " 'means': []}"
            ]
          },
          "execution_count": 70,
          "metadata": {},
          "output_type": "execute_result"
        },
        {
          "data": {
            "image/png": "[encoded data removed]",
            "text/plain": [
              "<Figure size 640x480 with 1 Axes>"
            ]
          },
          "metadata": {},
          "output_type": "display_data"
        }
      ],
      "source": [
        "plt.boxplot(x=df['SPOS'])"
      ]
    }
  ],
  "metadata": {
    "colab": {
      "authorship_tag": "ABX9TyPCabucTToaeyp9H9XKn7xe",
      "include_colab_link": true,
      "name": "A2.ipynb",
      "provenance": []
    },
    "kernelspec": {
      "display_name": "Python 3",
      "name": "python3"
    },
    "language_info": {
      "codemirror_mode": {
        "name": "ipython",
        "version": 3
      },
      "file_extension": ".py",
      "mimetype": "text/x-python",
      "name": "python",
      "nbconvert_exporter": "python",
      "pygments_lexer": "ipython3",
      "version": "3.13.1"
    }
  },
  "nbformat": 4,
  "nbformat_minor": 0
}
